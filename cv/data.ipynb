{
 "cells": [
  {
   "cell_type": "markdown",
   "metadata": {
    "tags": []
   },
   "source": [
    "Data preprocessing and initial testing for the CDC webscraping project. The focus of my work is on utilizing multi-modal vision-language models to automatically detect certain marketing features present in vape advertisements. I am beginning by focusing on \"iced\" flavor vapes as this flavoring can be signaled by the name of the vape, the description, the image, or all. \n",
    "\n",
    "VLMs are an attractive approach for 2 reasons:\n",
    "1). This problem is inherently multi-modal, and although it may be easy to extract this information from text data, it might be more difficult to extract if present in the images but not the text\n",
    "2). Most of these models are very strong zero/few-shot learners. So, we may be able to hand label only a small collection of these image-text pairs and gain good performance.\n",
    "\n",
    "Here are some reference papers:\n",
    "\n",
    "CLIP: https://arxiv.org/abs/2103.00020 \n",
    "\n",
    "FLAVA:https://arxiv.org/abs/2112.04482"
   ]
  },
  {
   "cell_type": "code",
   "execution_count": 1,
   "metadata": {
    "tags": []
   },
   "outputs": [
    {
     "name": "stdout",
     "output_type": "stream",
     "text": [
      "True\n"
     ]
    }
   ],
   "source": [
    "import pandas as pd\n",
    "import numpy as np\n",
    "import os\n",
    "import torch\n",
    "print(torch.cuda.is_available())"
   ]
  },
  {
   "cell_type": "code",
   "execution_count": 4,
   "metadata": {
    "tags": []
   },
   "outputs": [],
   "source": [
    "os.getcwd()\n",
    "text_data = pd.read_csv(\"../../mipod_data/mipod.csv\")"
   ]
  },
  {
   "cell_type": "code",
   "execution_count": 5,
   "metadata": {},
   "outputs": [
    {
     "name": "stdout",
     "output_type": "stream",
     "text": [
      "1032\n",
      "1053\n",
      "954\n",
      "120\n"
     ]
    }
   ],
   "source": [
    "print(text_data.Description.isna().sum())\n",
    "print(len(text_data))\n",
    "print(text_data.description.isna().sum())\n",
    "print(text_data.Flavor.isna().sum())"
   ]
  },
  {
   "cell_type": "code",
   "execution_count": 6,
   "metadata": {
    "tags": []
   },
   "outputs": [],
   "source": [
    "text = {}\n",
    "#generate our text by concatenating all text data we have available together.\n",
    "#for the vast majority of entries, this comes from only the \"Flavor\" column.\n",
    "for i in range(len(text_data)):\n",
    "    curr = text_data.iloc[i,:]\n",
    "    name = curr.Product\n",
    "    desc = \"\"\n",
    "    if not pd.isna(curr.Description):\n",
    "        desc += curr.Description\n",
    "    if not pd.isna(curr.description):\n",
    "        desc += curr.description\n",
    "    if not pd.isna(curr.Flavor):\n",
    "        desc += curr.Flavor\n",
    "    if desc == \"\":\n",
    "        continue\n",
    "    idx = desc.find(\"\\\"category\\\"\")\n",
    "    if idx == -1:\n",
    "        text[name] = desc\n",
    "        continue\n",
    "    text[name] = desc[:idx]"
   ]
  },
  {
   "cell_type": "code",
   "execution_count": 1,
   "metadata": {
    "tags": []
   },
   "outputs": [
    {
     "ename": "ImportError",
     "evalue": "cannot import name 'get_img' from 'utils' (/home/jwessell6/CDCF_Webscrapping_Vape_Products_Project/testing/utils.py)",
     "output_type": "error",
     "traceback": [
      "\u001b[0;31m---------------------------------------------------------------------------\u001b[0m",
      "\u001b[0;31mImportError\u001b[0m                               Traceback (most recent call last)",
      "Cell \u001b[0;32mIn[1], line 3\u001b[0m\n\u001b[1;32m      1\u001b[0m get_ipython()\u001b[38;5;241m.\u001b[39mrun_line_magic(\u001b[38;5;124m'\u001b[39m\u001b[38;5;124mreload_ext\u001b[39m\u001b[38;5;124m'\u001b[39m, \u001b[38;5;124m'\u001b[39m\u001b[38;5;124mautoreload\u001b[39m\u001b[38;5;124m'\u001b[39m)\n\u001b[1;32m      2\u001b[0m get_ipython()\u001b[38;5;241m.\u001b[39mrun_line_magic(\u001b[38;5;124m'\u001b[39m\u001b[38;5;124mautoreload\u001b[39m\u001b[38;5;124m'\u001b[39m, \u001b[38;5;124m'\u001b[39m\u001b[38;5;124m2\u001b[39m\u001b[38;5;124m'\u001b[39m)\n\u001b[0;32m----> 3\u001b[0m \u001b[38;5;28;01mfrom\u001b[39;00m \u001b[38;5;21;01mutils\u001b[39;00m \u001b[38;5;28;01mimport\u001b[39;00m get_img\n\u001b[1;32m      4\u001b[0m img \u001b[38;5;241m=\u001b[39m get_img(\u001b[38;5;124m\"\u001b[39m\u001b[38;5;124m/mipod_data/mipod_imgs\u001b[39m\u001b[38;5;124m\"\u001b[39m, \u001b[38;5;28mlist\u001b[39m(data\u001b[38;5;241m.\u001b[39mkeys())[\u001b[38;5;241m0\u001b[39m])\n\u001b[1;32m      5\u001b[0m plt\u001b[38;5;241m.\u001b[39mimshow(img)\n",
      "\u001b[0;31mImportError\u001b[0m: cannot import name 'get_img' from 'utils' (/home/jwessell6/CDCF_Webscrapping_Vape_Products_Project/testing/utils.py)"
     ]
    }
   ],
   "source": [
    "%reload_ext autoreload\n",
    "%autoreload 2\n",
    "from utils import get_imgs\n",
    "img = get_img(\"/mipod_data/mipod_imgs\", list(data.keys())[0])\n",
    "plt.imshow(img)"
   ]
  },
  {
   "cell_type": "code",
   "execution_count": 6,
   "metadata": {},
   "outputs": [],
   "source": [
    "files = os.listdir(\"../../mipod_data/mipod_imgs\")"
   ]
  },
  {
   "cell_type": "code",
   "execution_count": 9,
   "metadata": {},
   "outputs": [
    {
     "ename": "NameError",
     "evalue": "name 'data' is not defined",
     "output_type": "error",
     "traceback": [
      "\u001b[0;31m---------------------------------------------------------------------------\u001b[0m",
      "\u001b[0;31mNameError\u001b[0m                                 Traceback (most recent call last)",
      "Cell \u001b[0;32mIn[9], line 4\u001b[0m\n\u001b[1;32m      2\u001b[0m imgs \u001b[38;5;241m=\u001b[39m {}\n\u001b[1;32m      3\u001b[0m \u001b[38;5;66;03m#match the text to the image.\u001b[39;00m\n\u001b[0;32m----> 4\u001b[0m \u001b[38;5;28;01mfor\u001b[39;00m key \u001b[38;5;129;01min\u001b[39;00m \u001b[43mdata\u001b[49m\u001b[38;5;241m.\u001b[39mkeys():\n\u001b[1;32m      5\u001b[0m     name \u001b[38;5;241m=\u001b[39m key \u001b[38;5;241m+\u001b[39m \u001b[38;5;124m\"\u001b[39m\u001b[38;5;124m.jpg\u001b[39m\u001b[38;5;124m\"\u001b[39m\n\u001b[1;32m      6\u001b[0m     \u001b[38;5;28;01mfor\u001b[39;00m file \u001b[38;5;129;01min\u001b[39;00m files:\n",
      "\u001b[0;31mNameError\u001b[0m: name 'data' is not defined"
     ]
    }
   ],
   "source": [
    "from PIL import Image\n",
    "imgs = {}\n",
    "#match the text to the image.\n",
    "for key in data.keys():\n",
    "    name = key + \".jpg\"\n",
    "    for file in files:\n",
    "        if name in file:\n",
    "            image = Image.open('../../mipod_data/mipod_imgs' + '/' + file).convert('RGB')\n",
    "            image = image.resize((256,256),Image.LANCZOS)\n",
    "            imgs[key] = image"
   ]
  },
  {
   "cell_type": "code",
   "execution_count": 19,
   "metadata": {},
   "outputs": [
    {
     "name": "stdout",
     "output_type": "stream",
     "text": [
      "<PIL.Image.Image image mode=RGB size=96x96 at 0x7F7F23F9A9E0>\n"
     ]
    },
    {
     "data": {
      "text/plain": [
       "<matplotlib.image.AxesImage at 0x7f7f21a66fb0>"
      ]
     },
     "execution_count": 19,
     "metadata": {},
     "output_type": "execute_result"
    },
    {
     "data": {
      "image/png": "[encoded data removed]",
      "text/plain": [
       "<Figure size 640x480 with 1 Axes>"
      ]
     },
     "metadata": {},
     "output_type": "display_data"
    }
   ],
   "source": [
    "import matplotlib.pyplot as plt\n",
    "print(imgs['Flonq Max Smart Fruity Fusion 2% Sampler'])\n",
    "plt.imshow(imgs['Flonq Max Smart Fruity Fusion 2% Sampler'])"
   ]
  },
  {
   "cell_type": "code",
   "execution_count": 1,
   "metadata": {
    "tags": []
   },
   "outputs": [
    {
     "ename": "RuntimeError",
     "evalue": "CUDA error: invalid device ordinal\nCUDA kernel errors might be asynchronously reported at some other API call, so the stacktrace below might be incorrect.\nFor debugging consider passing CUDA_LAUNCH_BLOCKING=1\nCompile with `TORCH_USE_CUDA_DSA` to enable device-side assertions.\n",
     "output_type": "error",
     "traceback": [
      "\u001b[0;31m---------------------------------------------------------------------------\u001b[0m",
      "\u001b[0;31mRuntimeError\u001b[0m                              Traceback (most recent call last)",
      "Cell \u001b[0;32mIn[1], line 5\u001b[0m\n\u001b[1;32m      3\u001b[0m \u001b[38;5;28;01mfrom\u001b[39;00m \u001b[38;5;21;01mvlm\u001b[39;00m \u001b[38;5;28;01mimport\u001b[39;00m run_hf\n\u001b[1;32m      4\u001b[0m topic \u001b[38;5;241m=\u001b[39m \u001b[38;5;124m'\u001b[39m\u001b[38;5;124mscreen\u001b[39m\u001b[38;5;124m'\u001b[39m\n\u001b[0;32m----> 5\u001b[0m results \u001b[38;5;241m=\u001b[39m \u001b[43mrun_hf\u001b[49m\u001b[43m(\u001b[49m\u001b[43mtopic\u001b[49m\u001b[43m \u001b[49m\u001b[38;5;241;43m=\u001b[39;49m\u001b[43m \u001b[49m\u001b[43mtopic\u001b[49m\u001b[43m,\u001b[49m\u001b[43m \u001b[49m\u001b[43mbatch_size\u001b[49m\u001b[43m \u001b[49m\u001b[38;5;241;43m=\u001b[39;49m\u001b[43m \u001b[49m\u001b[38;5;241;43m32\u001b[39;49m\u001b[43m)\u001b[49m\n",
      "File \u001b[0;32m~/CDCF_Webscrapping_Vape_Products_Project/testing/vlm.py:9\u001b[0m, in \u001b[0;36mrun_hf\u001b[0;34m(topic, batch_size, max_gen)\u001b[0m\n\u001b[1;32m      7\u001b[0m \u001b[38;5;28;01mdef\u001b[39;00m \u001b[38;5;21mrun_hf\u001b[39m(topic, batch_size \u001b[38;5;241m=\u001b[39m \u001b[38;5;241m1\u001b[39m, max_gen \u001b[38;5;241m=\u001b[39m \u001b[38;5;241m5\u001b[39m):\n\u001b[1;32m      8\u001b[0m     \u001b[38;5;66;03m#quantization: not necessary but can improve inference speed at the cost of some performance\u001b[39;00m\n\u001b[0;32m----> 9\u001b[0m     \u001b[43mtorch\u001b[49m\u001b[38;5;241;43m.\u001b[39;49m\u001b[43mcuda\u001b[49m\u001b[38;5;241;43m.\u001b[39;49m\u001b[43mset_device\u001b[49m\u001b[43m(\u001b[49m\u001b[38;5;241;43m1\u001b[39;49m\u001b[43m)\u001b[49m\n\u001b[1;32m     10\u001b[0m     data \u001b[38;5;241m=\u001b[39m llava_vape_dataset(topic \u001b[38;5;241m=\u001b[39m topic, text_path \u001b[38;5;241m=\u001b[39m \u001b[38;5;124m'\u001b[39m\u001b[38;5;124m/mipod_data/mipod.csv\u001b[39m\u001b[38;5;124m'\u001b[39m, img_path \u001b[38;5;241m=\u001b[39m \u001b[38;5;124m'\u001b[39m\u001b[38;5;124m/mipod_data/mipod_imgs\u001b[39m\u001b[38;5;124m'\u001b[39m)\n\u001b[1;32m     11\u001b[0m     quantization_config \u001b[38;5;241m=\u001b[39m BitsAndBytesConfig(\n\u001b[1;32m     12\u001b[0m         load_in_8bit\u001b[38;5;241m=\u001b[39m\u001b[38;5;28;01mTrue\u001b[39;00m\n\u001b[1;32m     13\u001b[0m     )\n",
      "File \u001b[0;32m~/miniconda3/envs/clip/lib/python3.10/site-packages/torch/cuda/__init__.py:420\u001b[0m, in \u001b[0;36mset_device\u001b[0;34m(device)\u001b[0m\n\u001b[1;32m    418\u001b[0m device \u001b[38;5;241m=\u001b[39m _get_device_index(device)\n\u001b[1;32m    419\u001b[0m \u001b[38;5;28;01mif\u001b[39;00m device \u001b[38;5;241m>\u001b[39m\u001b[38;5;241m=\u001b[39m \u001b[38;5;241m0\u001b[39m:\n\u001b[0;32m--> 420\u001b[0m     \u001b[43mtorch\u001b[49m\u001b[38;5;241;43m.\u001b[39;49m\u001b[43m_C\u001b[49m\u001b[38;5;241;43m.\u001b[39;49m\u001b[43m_cuda_setDevice\u001b[49m\u001b[43m(\u001b[49m\u001b[43mdevice\u001b[49m\u001b[43m)\u001b[49m\n",
      "\u001b[0;31mRuntimeError\u001b[0m: CUDA error: invalid device ordinal\nCUDA kernel errors might be asynchronously reported at some other API call, so the stacktrace below might be incorrect.\nFor debugging consider passing CUDA_LAUNCH_BLOCKING=1\nCompile with `TORCH_USE_CUDA_DSA` to enable device-side assertions.\n"
     ]
    }
   ],
   "source": [
    "%reload_ext autoreload\n",
    "%autoreload 2\n",
    "from vlm import run_hf\n",
    "topic = 'screen'\n",
    "results = run_hf(topic = topic, batch_size = 32)"
   ]
  },
  {
   "cell_type": "code",
   "execution_count": null,
   "metadata": {
    "tags": []
   },
   "outputs": [],
   "source": [
    "import pickle\n",
    "name = \"mipod-\" + topic + \".pkl\"\n",
    "with open(name, 'wb') as file:\n",
    "    pickle.dump(results, file)"
   ]
  },
  {
   "cell_type": "code",
   "execution_count": 17,
   "metadata": {
    "tags": []
   },
   "outputs": [
    {
     "name": "stdout",
     "output_type": "stream",
     "text": [
      "torch.Size([1, 624])\n",
      "torch.Size([1, 629])\n",
      "5\n",
      "['No.<\\\\s>']\n"
     ]
    }
   ],
   "source": [
    "from transformers import AutoProcessor\n",
    "processor = AutoProcessor.from_pretrained(\"llava-hf/llava-v1.6-mistral-7b-hf\", padding_side = 'left')\n",
    "print(inputs['input_ids'].shape)\n",
    "print(gen.shape)\n",
    "print(gen.shape[1] - inputs['input_ids'].shape[1])\n",
    "tokens = gen[:, -(gen.shape[1] - inputs['input_ids'].shape[1]):]\n",
    "print(processor.batch_decode(tokens, skip_special_tokens=True, clean_up_tokenization_spaces=False))"
   ]
  },
  {
   "cell_type": "code",
   "execution_count": 41,
   "metadata": {},
   "outputs": [],
   "source": [
    "import pickle\n",
    "topic = 'iced'\n",
    "with open('zeroshot' +topic + '.pkl', 'rb') as file:\n",
    "    # Load the object from the file\n",
    "    my_object = pickle.load(file)"
   ]
  },
  {
   "cell_type": "code",
   "execution_count": 42,
   "metadata": {},
   "outputs": [
    {
     "name": "stdout",
     "output_type": "stream",
     "text": [
      "('vapingdotcom', 'red-bomb-elux-cyberover-18k', 'Desc: ELUX CYBEROVER VAPE\\n\\nGet ready for an explosion of flavor with Red Bomb ELUX Cyberover 18K, now available at Vaping.com! Experience the quintessential taste of cherry combined with a symphony of delicious red fruit flavors.', '/home/jwessell6/../../projects/frostbyte-1/cdcf_ecig_analysis/box_src/data_from_sites/vapingdotcom/vapingdotcom_images/red-bomb-elux-cyberover-18k_secondary.png')\n"
     ]
    }
   ],
   "source": [
    "with open('../../data/zeroshot.pkl', 'rb') as file:\n",
    "    descs = pickle.load(file)\n",
    "print(descs[0])"
   ]
  },
  {
   "cell_type": "code",
   "execution_count": 43,
   "metadata": {},
   "outputs": [],
   "source": [
    "import pandas as pd\n",
    "site_name = []\n",
    "vape_name = []\n",
    "answer = []\n",
    "text = []\n",
    "yes = ['Yes', 'Yes,', 'Yes.', 'yes', 'yes.','yes,']\n",
    "no = ['No', 'No,','No.' 'yes', 'yes.', 'yes,']\n",
    "for res in my_object:\n",
    "    site_name.append(res[0])\n",
    "    vape_name.append(res[1])\n",
    "    if res[2][0] in yes:\n",
    "        answer.append(1)\n",
    "    elif res[2][0] in no:\n",
    "        answer.append(0)\n",
    "    else:\n",
    "        answer.append(res[2][0])\n",
    "    for desc in descs:\n",
    "        if res[1] == desc[1]:\n",
    "            string = desc[2].replace('\\n', '')\n",
    "            text.append(desc[2])\n",
    "            break\n",
    "data = pd.DataFrame(columns = ['site', 'vape', topic, 'desc.'])"
   ]
  },
  {
   "cell_type": "code",
   "execution_count": 44,
   "metadata": {},
   "outputs": [
    {
     "name": "stdout",
     "output_type": "stream",
     "text": [
      "8688\n",
      "8688\n",
      "8688\n",
      "8688\n"
     ]
    }
   ],
   "source": [
    "print(len(site_name))\n",
    "print(len(vape_name))\n",
    "print(len(answer))\n",
    "print(len(text))"
   ]
  },
  {
   "cell_type": "code",
   "execution_count": 45,
   "metadata": {},
   "outputs": [],
   "source": [
    "data['site'] = site_name\n",
    "data['vape'] = vape_name\n",
    "data[topic] = answer\n",
    "data['desc.'] = text\n",
    "data.sort_values(by = 'vape', axis = 0, inplace = True)\n",
    "data.to_csv('zeroshot-' + topic + '.csv')\n",
    "#sites with potential flavor lists:\n",
    "#vapewh: Flavors:"
   ]
  },
  {
   "cell_type": "code",
   "execution_count": 1,
   "metadata": {},
   "outputs": [],
   "source": [
    "import pandas as pd\n",
    "from PIL import Image\n",
    "import numpy as np\n",
    "import os\n",
    "image_paths = {\n",
    "    'csvape' : 'projects/frostbyte-1/cdcf_ecig_analysis/box_src/data_from_sites/csvape/csvape_images',\n",
    "    'getpop' : 'projects/frostbyte-1/cdcf_ecig_analysis/box_src/data_from_sites/getpop/getpop_images',\n",
    "    'mipod' : 'projects/frostbyte-1/cdcf_ecig_analysis/box_src/data_from_sites/mipod/images',\n",
    "    'myvaporstore' : 'projects/frostbyte-1/cdcf_ecig_analysis/box_src/data_from_sites/myvaporstore/myvaporstore_images',\n",
    "    'perfect_vape' : 'projects/frostbyte-1/cdcf_ecig_analysis/box_src/data_from_sites/perfect_vape/perfectvape_images',\n",
    "    'vapedotcom' : 'projects/frostbyte-1/cdcf_ecig_analysis/box_src/data_from_sites/vapedotcom/vapedotcom_images',\n",
    "    'vapesourcing' : 'projects/frostbyte-1/cdcf_ecig_analysis/box_src/data_from_sites/vapesourcing/vapesourcing_images',\n",
    "    'vapewh' : 'projects/frostbyte-1/cdcf_ecig_analysis/box_src/data_from_sites/vapewh/vapewh_images',\n",
    "    'vapingdotcom' : 'projects/frostbyte-1/cdcf_ecig_analysis/box_src/data_from_sites/vapingdotcom/vapingdotcom_images'\n",
    "\n",
    "}\n",
    "text_paths = {\n",
    "    'csvape' : 'projects/frostbyte-1/cdcf_ecig_analysis/box_src/data_from_sites/csvape/csvape_scrape.csv',\n",
    "    'getpop' : 'projects/frostbyte-1/cdcf_ecig_analysis/box_src/data_from_sites/getpop/getpop_ecig.csv',\n",
    "    'mipod' : 'projects/frostbyte-1/cdcf_ecig_analysis/box_src/data_from_sites/mipod/product_type_mipod.csv',\n",
    "    'myvaporstore': 'projects/frostbyte-1/cdcf_ecig_analysis/box_src/data_from_sites/myvaporstore/myvaporstore_scrape.csv',\n",
    "    'perfect_vape' : 'projects/frostbyte-1/cdcf_ecig_analysis/box_src/data_from_sites/perfect_vape/perfectvape_scrape.csv',\n",
    "    'vapedotcom' : 'projects/frostbyte-1/cdcf_ecig_analysis/box_src/data_from_sites/vapedotcom/vapedotcom_scrape.csv',\n",
    "    'vapesourcing' : 'projects/frostbyte-1/cdcf_ecig_analysis/box_src/data_from_sites/vapesourcing/vapesourcing_scrape.csv',\n",
    "    'vapewh' : 'projects/frostbyte-1/cdcf_ecig_analysis/box_src/data_from_sites/vapewh/vapewh_scrape.csv',\n",
    "    'vapingdotcom' : 'projects/frostbyte-1/cdcf_ecig_analysis/box_src/data_from_sites/vapingdotcom/vapingdotcom_scrape.csv'\n",
    "}"
   ]
  },
  {
   "cell_type": "code",
   "execution_count": 2,
   "metadata": {
    "tags": []
   },
   "outputs": [],
   "source": [
    "import pickle\n",
    "def generate_data(site: str):\n",
    "    #data will be a list of tuples: the name, an image, and a text description.\n",
    "    data = []\n",
    "    path = os.path.expanduser(\"~\") + '/../../'\n",
    "    text_data = pd.read_csv(path + text_paths[site])\n",
    "    image_files = os.listdir(path + image_paths[site])\n",
    "    for i in range(len(text_data)):\n",
    "        eg = text_data.iloc[i,:]\n",
    "        text = \"\"\n",
    "        name = \"\"\n",
    "        if site in ['vapingdotcom','perfect_vape','vapewh', 'vapedotcom', 'vapesourcing']:\n",
    "            name = eg.tag\n",
    "            if not pd.isna(eg.description):\n",
    "                text += \"Desc: \" + eg.description\n",
    "            if not pd.isna(eg.flavors_description):\n",
    "                text += \"Flavors: \" + eg.flavors_description\n",
    "            if not pd.isna(eg.key_features_description):\n",
    "                text += \"features: \" + eg.key_features_description\n",
    "            img = False\n",
    "            for file in image_files:\n",
    "                if name in file:\n",
    "                    img = True\n",
    "                    data.append((site, name,text,path + image_paths[site] + '/' +file)) \n",
    "            if not img:\n",
    "                #won't always have image data\n",
    "                data.append((site, name,text,\"\"))\n",
    "                \n",
    "        if site in['getpop', 'myvaporstore','csvape']:\n",
    "            name = eg.tag\n",
    "            if not pd.isna(eg.description):\n",
    "                text += eg.description\n",
    "            img = False\n",
    "            for file in image_files:\n",
    "                if name in file:\n",
    "                    img = True\n",
    "                    data.append((site, name,text, path + image_paths[site] + '/'+ file)) \n",
    "            if not img:\n",
    "                #won't always have image data\n",
    "                data.append((site, name,text,\"\"))\n",
    "        if site == 'mipod':\n",
    "            name = eg.Product\n",
    "            if not pd.isna(eg.Description):\n",
    "                text += eg.Description\n",
    "            text += \" Display: \"\n",
    "            if not pd.isna(eg.Display_Description):\n",
    "                text += eg.Display_Description\n",
    "            for file in image_files:\n",
    "                if name in file:\n",
    "                    img = True\n",
    "                    data.append((site, name, text,  path + image_paths[site] + '/'+ file)) \n",
    "            if not img:\n",
    "                #won't always have image data\n",
    "                data.append((site, name,text,\"\"))\n",
    "    return data"
   ]
  },
  {
   "cell_type": "code",
   "execution_count": 3,
   "metadata": {
    "tags": []
   },
   "outputs": [
    {
     "name": "stdout",
     "output_type": "stream",
     "text": [
      "710\n",
      "992\n",
      "1038\n",
      "2062\n",
      "2946\n",
      "35378\n",
      "35449\n",
      "14165\n",
      "8221\n"
     ]
    }
   ],
   "source": [
    "for site in image_paths.keys():\n",
    "    data = generate_data(site)\n",
    "    print(len(data))\n",
    "    name = os.path.expanduser(\"~\") + '/data/' + site + \".pkl\"\n",
    "    with open(name, 'wb') as file:\n",
    "        pickle.dump(data, file)"
   ]
  },
  {
   "cell_type": "code",
   "execution_count": 9,
   "metadata": {
    "tags": []
   },
   "outputs": [
    {
     "name": "stdout",
     "output_type": "stream",
     "text": [
      "8702\n"
     ]
    }
   ],
   "source": [
    "import random\n",
    "files = os.listdir('../../data')\n",
    "dataset = []\n",
    "for file in files:\n",
    "    with open('../../data/' + file, 'rb') as data:\n",
    "        lst = pickle.load(data)\n",
    "        random.shuffle(lst)\n",
    "        for i in range(min(1000, len(lst))):\n",
    "            dataset.append(lst[i])\n",
    "print(len(dataset))\n",
    "with open('../../data/zeroshot.pkl', 'wb') as file:\n",
    "        pickle.dump(dataset, file)"
   ]
  },
  {
   "cell_type": "code",
   "execution_count": 10,
   "metadata": {},
   "outputs": [],
   "source": [
    "with open('../../data/zeroshot.pkl', 'rb') as file:\n",
    "     data = pickle.load(file)"
   ]
  },
  {
   "cell_type": "code",
   "execution_count": null,
   "metadata": {
    "tags": []
   },
   "outputs": [],
   "source": [
    "from utils import make_prompt\n",
    "from transformers import AutoProcessor\n",
    "processor = AutoProcessor.from_pretrained(\"llava-hf/llava-v1.6-mistral-7b-hf\", padding_side = 'left')\n",
    "for i in range(32*35, 32*40):\n",
    "    '''prompt = processor.apply_chat_template([make_prompt(data[i][2], 'iced')], add_generation_prompt=True)\n",
    "    print(data[i][0])\n",
    "    print(prompt)\n",
    "    print(data[i][3])\n",
    "    print(\"\")'''"
   ]
  },
  {
   "cell_type": "code",
   "execution_count": 3,
   "metadata": {
    "tags": []
   },
   "outputs": [],
   "source": [
    "from transformers import AutoProcessor, LlavaNextForConditionalGeneration\n",
    "import torch\n",
    "model = LlavaNextForConditionalGeneration.from_pretrained(\"llava-hf/llava-v1.6-mistral-7b-hf\", torch_dtype=torch.float16, device_map = 'cpu')\n",
    "processor = AutoProcessor.from_pretrained(\"llava-hf/llava-v1.6-mistral-7b-hf\")"
   ]
  },
  {
   "cell_type": "code",
   "execution_count": 10,
   "metadata": {
    "tags": []
   },
   "outputs": [
    {
     "ename": "AttributeError",
     "evalue": "'LlavaNextForConditionalGeneration' object has no attribute 'text_config'",
     "output_type": "error",
     "traceback": [
      "\u001b[0;31m---------------------------------------------------------------------------\u001b[0m",
      "\u001b[0;31mAttributeError\u001b[0m                            Traceback (most recent call last)",
      "Cell \u001b[0;32mIn[10], line 2\u001b[0m\n\u001b[1;32m      1\u001b[0m model\u001b[38;5;241m.\u001b[39mconfig\u001b[38;5;241m.\u001b[39mmax_length \u001b[38;5;241m=\u001b[39m \u001b[38;5;241m1000\u001b[39m\n\u001b[0;32m----> 2\u001b[0m \u001b[38;5;28mprint\u001b[39m(\u001b[43mmodel\u001b[49m\u001b[38;5;241;43m.\u001b[39;49m\u001b[43mtext_config\u001b[49m\u001b[38;5;241m.\u001b[39mmodel_type)\n\u001b[1;32m      3\u001b[0m \u001b[38;5;28mprint\u001b[39m(\u001b[38;5;28mdir\u001b[39m(model\u001b[38;5;241m.\u001b[39mconfig))\n",
      "File \u001b[0;32m~/miniconda3/envs/clip/lib/python3.10/site-packages/torch/nn/modules/module.py:1729\u001b[0m, in \u001b[0;36mModule.__getattr__\u001b[0;34m(self, name)\u001b[0m\n\u001b[1;32m   1727\u001b[0m     \u001b[38;5;28;01mif\u001b[39;00m name \u001b[38;5;129;01min\u001b[39;00m modules:\n\u001b[1;32m   1728\u001b[0m         \u001b[38;5;28;01mreturn\u001b[39;00m modules[name]\n\u001b[0;32m-> 1729\u001b[0m \u001b[38;5;28;01mraise\u001b[39;00m \u001b[38;5;167;01mAttributeError\u001b[39;00m(\u001b[38;5;124mf\u001b[39m\u001b[38;5;124m\"\u001b[39m\u001b[38;5;124m'\u001b[39m\u001b[38;5;132;01m{\u001b[39;00m\u001b[38;5;28mtype\u001b[39m(\u001b[38;5;28mself\u001b[39m)\u001b[38;5;241m.\u001b[39m\u001b[38;5;18m__name__\u001b[39m\u001b[38;5;132;01m}\u001b[39;00m\u001b[38;5;124m'\u001b[39m\u001b[38;5;124m object has no attribute \u001b[39m\u001b[38;5;124m'\u001b[39m\u001b[38;5;132;01m{\u001b[39;00mname\u001b[38;5;132;01m}\u001b[39;00m\u001b[38;5;124m'\u001b[39m\u001b[38;5;124m\"\u001b[39m)\n",
      "\u001b[0;31mAttributeError\u001b[0m: 'LlavaNextForConditionalGeneration' object has no attribute 'text_config'"
     ]
    }
   ],
   "source": [
    "model.config.max_length = 1000\n",
    "print(model.text_config.model_type)\n",
    "print(dir(model.config))"
   ]
  },
  {
   "cell_type": "code",
   "execution_count": null,
   "metadata": {},
   "outputs": [],
   "source": []
  }
 ],
 "metadata": {
  "kernelspec": {
   "display_name": "VLM",
   "language": "python",
   "name": "vlm"
  },
  "language_info": {
   "codemirror_mode": {
    "name": "ipython",
    "version": 3
   },
   "file_extension": ".py",
   "mimetype": "text/x-python",
   "name": "python",
   "nbconvert_exporter": "python",
   "pygments_lexer": "ipython3",
   "version": "3.10.14"
  }
 },
 "nbformat": 4,
 "nbformat_minor": 4
}
