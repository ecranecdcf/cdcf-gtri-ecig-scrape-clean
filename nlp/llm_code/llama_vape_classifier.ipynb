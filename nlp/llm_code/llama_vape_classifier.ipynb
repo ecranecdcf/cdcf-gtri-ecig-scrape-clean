{
 "cells": [
  {
   "cell_type": "markdown",
   "metadata": {},
   "source": [
    "##### This notebook processes and labels web-scraped vape products based on e-cigarette product categories. The following categories are currently prototyped: \n",
    "##### [Product Type, Total Ounces/mL (E-liquid content), CBD/THC, Nicotine Level, Synthetic Nicotine, Nicotine Free]\n",
    "\n",
    "###### Flavor is currently in process. Regex has been completed for vape.com, but edge cases will most likely require LLM use."
   ]
  },
  {
   "cell_type": "code",
   "execution_count": null,
   "metadata": {
    "tags": []
   },
   "outputs": [],
   "source": [
    "# Import relevant libraries \n",
    "import pandas as pd\n",
    "import subprocess\n",
    "import json\n",
    "import os\n",
    "\n",
    "# Import web scraper preprocessing functions\n",
    "from data_manipulation import random_sample, merge_text\n",
    "\n",
    "# Import regex functions for nicotine levels/e-liquid contents\n",
    "from regex_functions import populate_nicotine_and_eliquid, populate_nic_free, find_nic_free, extract_flavors_with_descriptions\n",
    "\n",
    "# Import LLM functions for processing remaining categories\n",
    "from llm_functions import init_llama_model, load_csv_data, preprocess_data, classify_dataset, save_classified_data, extract_llm"
   ]
  },
  {
   "cell_type": "markdown",
   "metadata": {},
   "source": [
    "#### We will first initialize variables for\n",
    "(1) The datasets (web-scraped sites) that we want to process and classify\n",
    "\n",
    "(2) Input and output directories\n",
    "\n",
    "(3) Model directory (where your Llama-3.1-8B-Instruct model is stored)\n",
    "\n",
    "(4) Flags for the categories you want LlaMA to classify"
   ]
  },
  {
   "cell_type": "code",
   "execution_count": 2,
   "metadata": {
    "tags": []
   },
   "outputs": [],
   "source": [
    "### Input the datasets you will be running this on\n",
    "datasets = ['csvape', 'vapewh', 'vapedotcom'] # Add the following as desired: 'getpop', 'myvaporstore', 'perfectvape', 'vapedotcom'\n",
    "\n",
    "### Change to the directory of datasets\n",
    "input_dir = './datasets/input/'\n",
    "### Change to the directory for your outputs\n",
    "output_dir = './datasets/output/'\n",
    "modifier = '10_31_' ### Change this to specify trial/date\n",
    "\n",
    "### Change to model directory\n",
    "model_dir = \"/home/jjun44/CDCF_vape/Llama-3.1-8B-Instruct\"\n",
    "\n",
    "### Change based on categories desired for classification. Can remove individual categories if needed.\n",
    "### Categories currently include: 'product_type', 'cbd', 'tfn', 'flavor'\n",
    "llm_flags = ['tfn', 'cbd', 'product_type'] # "
   ]
  },
  {
   "cell_type": "markdown",
   "metadata": {},
   "source": [
    "##### Within our code, we start with regex functions to identify nicotine level and e-liquid content. Nicotine level is the used to determine if the product is nicotine free. "
   ]
  },
  {
   "cell_type": "code",
   "execution_count": null,
   "metadata": {
    "tags": []
   },
   "outputs": [],
   "source": [
    "# Initialize Llama model\n",
    "llama_pipe = init_llama_model(model_dir)\n",
    "\n",
    "# Iterate through the datasets we are interested in\n",
    "for dataset in datasets:\n",
    "    # Loading the dataset\n",
    "    vape_df = load_csv_data(f'{input_dir}{dataset}_scrape.csv')\n",
    "\n",
    "    # Creating merged text for us to feed into the LLM and analyze via regex\n",
    "    merged_df = merge_text(vape_df, dataset)\n",
    "    \n",
    "    # Identify textual pattern for nicotine level and e-liquid content via regex\n",
    "    nic_level_liquid_df = populate_nicotine_and_eliquid(merged_df)\n",
    "    \n",
    "    # Use nicotine levels to identify if nicotine free\n",
    "    nic_free = populate_nic_free(nic_level_liquid_df)\n",
    "\n",
    "    # Extract flavors if vape.com or vapewh\n",
    "    if dataset == 'vapedotcom':\n",
    "        \n",
    "    # Run preprocessing for LLM input\n",
    "    data_for_llm = preprocess_data(nic_free)\n",
    "\n",
    "    # Initialize dataframe for all categories\n",
    "    all_categ_df = data_for_llm\n",
    "\n",
    "    # Categorization of llm_flags using Llama 3.1\n",
    "    if llama_pipe:\n",
    "        for llm_flag in llm_flags:\n",
    "            # Returns Llama response for classification for given llm_flag \n",
    "            llm_output = classify_dataset(llama_pipe, data_for_llm, llm_flag)\n",
    "            # Saves raw Llama response for future reference\n",
    "            save_classified_data(llm_output, f\"{output_dir}raw_output/{modifier}{dataset}_{llm_flag}.csv\")\n",
    "            # Append Llama response to final output\n",
    "            all_categ_df[llm_flag + '_raw_llm'] = llm_output[llm_flag + '_raw_llm']\n",
    "            # Extract relevant Llama response for concise categorization\n",
    "            all_categ_df[llm_flag + '_proc_llm'] = all_categ_df.apply(lambda row: extract_llm(row, llm_flag), axis=1)\n",
    "        \n",
    "        save_classified_data(all_categ_df, f\"{output_dir}processed_output/{modifier}{dataset}_processed.csv\")    \n",
    "    "
   ]
  },
  {
   "cell_type": "markdown",
   "metadata": {},
   "source": [
    "##### Now, we will have a final output for each dataset with the following variables classified: [Nicotine Level, Total Ounces/mL, Nicotine Free, CBD/THC, Product Type, Synthetic Nicotine]\n",
    "##### The first 3 are identified using regex only. The latter 3 are classified using LlaMA and will now have 2 columns--one for the raw output from the LLM and one for the extracted response. The extracted response may need further processing to be stored in a satisfactory format for future use."
   ]
  }
 ],
 "metadata": {
  "kernelspec": {
   "display_name": "Python (jpj_gpu)",
   "language": "python",
   "name": "jpj_gpu"
  },
  "language_info": {
   "codemirror_mode": {
    "name": "ipython",
    "version": 3
   },
   "file_extension": ".py",
   "mimetype": "text/x-python",
   "name": "python",
   "nbconvert_exporter": "python",
   "pygments_lexer": "ipython3",
   "version": "3.12.2"
  }
 },
 "nbformat": 4,
 "nbformat_minor": 4
}
