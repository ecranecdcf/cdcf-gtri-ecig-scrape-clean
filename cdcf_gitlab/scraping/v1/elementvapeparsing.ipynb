{
 "cells": [
  {
   "cell_type": "code",
   "execution_count": 100,
   "id": "67e7472f-cd29-4edc-bb32-c86be7eaae8f",
   "metadata": {
    "tags": []
   },
   "outputs": [],
   "source": [
    "import pandas as pd\n",
    "import numpy as np"
   ]
  },
  {
   "cell_type": "code",
   "execution_count": 101,
   "id": "7a5f6b52-dee2-44f9-a88e-afe47daac520",
   "metadata": {
    "tags": []
   },
   "outputs": [],
   "source": [
    "df = pd.read_excel('elisha-data.xlsx')"
   ]
  },
  {
   "cell_type": "code",
   "execution_count": 102,
   "id": "20e307dc-14d2-40a2-886f-8b8472f139cf",
   "metadata": {
    "tags": []
   },
   "outputs": [],
   "source": [
    "columns = df.columns"
   ]
  },
  {
   "cell_type": "code",
   "execution_count": 103,
   "id": "ee90ba5e-69fd-4823-ab42-651fc746396a",
   "metadata": {},
   "outputs": [],
   "source": [
    "filter_out = ['Unnamed: 0', 1, 2, 3, 4, 5, 6]"
   ]
  },
  {
   "cell_type": "code",
   "execution_count": 104,
   "id": "f84f2e36-cb2d-4727-b226-928e4c6b9fa6",
   "metadata": {
    "tags": []
   },
   "outputs": [],
   "source": [
    "target_col = []\n",
    "for col in columns:\n",
    "    if col not in filter_out:\n",
    "        target_col.append(col)\n",
    "        "
   ]
  },
  {
   "cell_type": "markdown",
   "id": "fe890b88-3135-4d29-9ed7-d0f229324ce4",
   "metadata": {
    "tags": []
   },
   "source": [
    "# Read in stuff from e-vape"
   ]
  },
  {
   "cell_type": "code",
   "execution_count": 376,
   "id": "e39e1abf-491c-42a1-87f7-88171ff2d3b9",
   "metadata": {
    "tags": []
   },
   "outputs": [],
   "source": [
    "import requests\n",
    "import re\n",
    "from bs4 import BeautifulSoup\n",
    "import csv\n",
    "\n",
    "from selenium import webdriver\n",
    "from selenium.webdriver.common.keys import Keys\n",
    "from selenium.webdriver.common.by import By\n",
    "from selenium.webdriver.support.ui import WebDriverWait\n",
    "from selenium.webdriver.support import expected_conditions as EC\n",
    "import time\n",
    "from selenium.webdriver.common.action_chains import ActionChains\n",
    "from selenium.common.exceptions import NoSuchElementException"
   ]
  },
  {
   "cell_type": "code",
   "execution_count": 106,
   "id": "1ac5cb6d-ea4d-4c59-889a-9736c39b0c77",
   "metadata": {
    "tags": []
   },
   "outputs": [],
   "source": [
    "URL = \"https://www.elementvape.com/\"\n",
    "ID = \"id\"\n",
    "NAME = \"name\"\n",
    "XPATH = \"xpath\"\n",
    "LINK_TEXT = \"link text\"\n",
    "PARTIAL_LINK_TEXT = \"partial link text\"\n",
    "TAG_NAME = \"tag name\"\n",
    "CLASS_NAME = \"class name\"\n",
    "CSS_SELECTOR = \"css selector\""
   ]
  },
  {
   "cell_type": "code",
   "execution_count": 107,
   "id": "91a11107-4eb5-4c01-b88f-596fc50c67b9",
   "metadata": {
    "tags": []
   },
   "outputs": [],
   "source": [
    "driver = webdriver.Firefox()\n",
    "driver.get(URL)"
   ]
  },
  {
   "cell_type": "code",
   "execution_count": 108,
   "id": "2c7d305e-ecff-426a-8f21-ae7cf061dac2",
   "metadata": {
    "tags": []
   },
   "outputs": [],
   "source": [
    "legal_age = driver.find_element(By.CLASS_NAME, 'confirm-button')\n",
    "legal_age.click()"
   ]
  },
  {
   "cell_type": "markdown",
   "id": "68a820d3-7fec-4975-a72f-1c52b78db8c2",
   "metadata": {
    "tags": []
   },
   "source": [
    "### General Helper Functions"
   ]
  },
  {
   "cell_type": "code",
   "execution_count": 109,
   "id": "05bd26c0-6b0c-47cd-a541-fa41b4435601",
   "metadata": {
    "tags": []
   },
   "outputs": [],
   "source": [
    "def load_everything(driver):\n",
    "    load_more = driver.find_element(By.CLASS_NAME, 'amscroll-load-button')\n",
    "    while True:\n",
    "        try:\n",
    "            load_more = WebDriverWait(driver, 20).until(EC.element_to_be_clickable((By.CLASS_NAME, 'amscroll-load-button')))\n",
    "            time.sleep(2)\n",
    "            driver.execute_script(\"arguments[0].click();\", load_more)\n",
    "            time.sleep(1)\n",
    "            driver.execute_script(\"window.scrollTo(0, document.body.scrollHeight);\")\n",
    "            time.sleep(1)\n",
    "        except Exception as e:\n",
    "            #print(e)\n",
    "            print(\"no more to load\")\n",
    "            break"
   ]
  },
  {
   "cell_type": "markdown",
   "id": "0f96af6d-dc50-4a73-be19-5e61b5b64bc5",
   "metadata": {
    "tags": []
   },
   "source": [
    "### Getting everything form disposables"
   ]
  },
  {
   "cell_type": "code",
   "execution_count": 255,
   "id": "30d6096e-4fc0-4bb3-9c2a-11d21dbc07aa",
   "metadata": {},
   "outputs": [],
   "source": [
    "disposable = driver.find_element(By.PARTIAL_LINK_TEXT, 'DISPOSABLES')\n",
    "disposable.click()"
   ]
  },
  {
   "cell_type": "code",
   "execution_count": 256,
   "id": "94787555-5ef9-4e4d-99b7-9e5cc2a1847d",
   "metadata": {
    "tags": []
   },
   "outputs": [
    {
     "name": "stdout",
     "output_type": "stream",
     "text": [
      "no more to load\n"
     ]
    }
   ],
   "source": [
    "load_everything(driver)"
   ]
  },
  {
   "cell_type": "code",
   "execution_count": 257,
   "id": "44d0d2f2-ebac-4f2e-a5bb-a1820e348d83",
   "metadata": {
    "tags": []
   },
   "outputs": [],
   "source": [
    "soup = BeautifulSoup(driver.page_source, 'html5lib')"
   ]
  },
  {
   "cell_type": "code",
   "execution_count": 258,
   "id": "b1d97d52-4a75-4953-ba75-5e20d7dd132f",
   "metadata": {
    "tags": []
   },
   "outputs": [],
   "source": [
    "#class=\"product-item-link\"\n",
    "disposable_dict = {}\n",
    "products = soup.findAll('a', attrs = {'class':'product-item-link'}) \n",
    "for prod in products:\n",
    "    disposable_dict[prod.text.strip()] = prod[\"href\"]"
   ]
  },
  {
   "cell_type": "code",
   "execution_count": 270,
   "id": "449ab278-a250-4147-81c5-61aba5092ac3",
   "metadata": {
    "tags": []
   },
   "outputs": [],
   "source": [
    "with open(\"disposables.csv\", \"w\", newline=\"\") as f:\n",
    "    w = csv.writer(f)\n",
    "    w.writerows(disposable_dict.items())"
   ]
  },
  {
   "cell_type": "markdown",
   "id": "403b8b13-f07b-446f-94cc-ceb4e126e8a3",
   "metadata": {
    "tags": []
   },
   "source": [
    "### Getting everything from Eqliquid"
   ]
  },
  {
   "cell_type": "code",
   "execution_count": 13,
   "id": "a1bfd8ff-e0cb-4198-9fcd-e1d15b3d45ee",
   "metadata": {
    "tags": []
   },
   "outputs": [],
   "source": [
    "eliquids = driver.find_element(By.PARTIAL_LINK_TEXT, 'E-LIQUIDS')\n",
    "eliquids.click()"
   ]
  },
  {
   "cell_type": "code",
   "execution_count": 14,
   "id": "52e59a62-8780-4e09-a1e8-56442c8fc40e",
   "metadata": {},
   "outputs": [],
   "source": [
    "flavor_profile = driver.find_elements(By.CLASS_NAME, 'filter-options-content')[9]\n",
    "#flavors = flavor_profile.find_elements(By.TAG_NAME, 'input')\n",
    "flavors = flavor_profile.find_elements(By.TAG_NAME, 'label')"
   ]
  },
  {
   "cell_type": "code",
   "execution_count": 16,
   "id": "b9e0c505-5b37-4310-8b78-bd3e38f07925",
   "metadata": {
    "tags": []
   },
   "outputs": [],
   "source": [
    "flavor_list = []\n",
    "for flavor in flavors:\n",
    "    temp = flavor.text + \"\"\n",
    "    temp = temp.lower().replace(\" & \", \"-\")\n",
    "    flavor_list.append(temp)"
   ]
  },
  {
   "cell_type": "code",
   "execution_count": 17,
   "id": "4d33d549-8d34-4da8-b1fe-56373ad463d4",
   "metadata": {
    "tags": []
   },
   "outputs": [
    {
     "data": {
      "text/plain": [
       "['fruit',\n",
       " 'menthol-mint',\n",
       " 'bakery',\n",
       " 'custard-cream',\n",
       " 'candy',\n",
       " 'dessert',\n",
       " 'nutty',\n",
       " 'beverage',\n",
       " 'breakfast',\n",
       " 'tobacco']"
      ]
     },
     "execution_count": 17,
     "metadata": {},
     "output_type": "execute_result"
    }
   ],
   "source": [
    "flavor_list"
   ]
  },
  {
   "cell_type": "code",
   "execution_count": 31,
   "id": "3ee7150f-66b2-4444-a026-286256172f6c",
   "metadata": {
    "tags": []
   },
   "outputs": [],
   "source": [
    "wip = [\"nutty\", 'beverage', \"breakfast\", \"tobacco\"]"
   ]
  },
  {
   "cell_type": "code",
   "execution_count": 32,
   "id": "356cf8aa-6d1d-4305-98f3-914f2d04d5bd",
   "metadata": {},
   "outputs": [
    {
     "name": "stdout",
     "output_type": "stream",
     "text": [
      "fruit\n",
      "no more to load\n",
      "menthol-mint\n",
      "no more to load\n",
      "bakery\n",
      "no more to load\n",
      "custard-cream\n",
      "no more to load\n",
      "candy\n",
      "no more to load\n",
      "dessert\n",
      "no more to load\n",
      "nutty\n",
      "no more to load\n",
      "beverage\n",
      "no more to load\n",
      "breakfast\n",
      "no more to load\n",
      "tobacco\n",
      "no more to load\n"
     ]
    }
   ],
   "source": [
    "for flavor in flavor_list:\n",
    "    print(flavor)\n",
    "    eliquids_dict = {}\n",
    "    \n",
    "    #if flavor in wip: \n",
    "    url = \"https://www.elementvape.com/e-liquids?flavor_profile=\" + flavor\n",
    "    driver.get(url)\n",
    "    \n",
    "    try:\n",
    "        load_more = WebDriverWait(driver, 20).until(EC.element_to_be_clickable((By.CLASS_NAME, 'amscroll-load-button')))\n",
    "        load_everything(driver)\n",
    "    except:\n",
    "        print(\"no more to load\")\n",
    "    \n",
    "    soup = BeautifulSoup(driver.page_source, 'html5lib')\n",
    "    products = soup.findAll('a', attrs = {'class':'product-item-link'}) \n",
    "    for prod in products:\n",
    "            eliquids_dict[prod.text.strip()] = prod[\"href\"]\n",
    "\n",
    "    with open(\"eliquids\" + flavor + \".csv\", \"w\", newline=\"\") as f:\n",
    "        w = csv.writer(f)\n",
    "        w.writerows(eliquids_dict.items())"
   ]
  },
  {
   "cell_type": "markdown",
   "id": "78c8845f-18f0-4039-a2a5-8d5b947771b7",
   "metadata": {},
   "source": [
    "# Getting Brands"
   ]
  },
  {
   "cell_type": "code",
   "execution_count": 30,
   "id": "22c645f4-729a-43b4-a0e2-09387ec1ff89",
   "metadata": {
    "tags": []
   },
   "outputs": [],
   "source": [
    "driver.get(\"https://www.elementvape.com/brands\")"
   ]
  },
  {
   "cell_type": "code",
   "execution_count": 31,
   "id": "942feb6b-96a8-4981-a246-c89670ac43d0",
   "metadata": {
    "tags": []
   },
   "outputs": [],
   "source": [
    "uppercase_letters = [chr(x) for x in range(ord('A'), ord('Z')+1)]"
   ]
  },
  {
   "cell_type": "code",
   "execution_count": 32,
   "id": "3033e38c-53a2-406a-9785-64ec2c9c647e",
   "metadata": {
    "tags": []
   },
   "outputs": [],
   "source": [
    "tag = \"brands-letter letter-A\"\n",
    "tag = \"letter-A\"\n",
    "\n",
    "temp = driver.find_element(By.CLASS_NAME, \"brand-list\")"
   ]
  },
  {
   "cell_type": "code",
   "execution_count": 34,
   "id": "e0d8b03d-8c40-4e5c-a2c8-a045a73ec5a0",
   "metadata": {
    "tags": []
   },
   "outputs": [],
   "source": [
    "temp = temp.text.split(\"\\n\")"
   ]
  },
  {
   "cell_type": "code",
   "execution_count": 36,
   "id": "f0f67712-14b6-42ec-8479-159546e46fc6",
   "metadata": {
    "tags": []
   },
   "outputs": [],
   "source": [
    "temp = list(map(str.strip, temp))"
   ]
  },
  {
   "cell_type": "code",
   "execution_count": 79,
   "id": "c930f0bc-db6d-4c3f-a9dd-5c69d45b695c",
   "metadata": {
    "tags": []
   },
   "outputs": [],
   "source": [
    "brands = []\n",
    "temp.append(\"JNR\")\n",
    "brand_regex = \"\"\n",
    "for b in temp:\n",
    "    if b not in uppercase_letters:\n",
    "        brands.append(b)\n",
    "        brand_regex = brand_regex + b + \"|\"\n",
    "\n",
    "brand_regex = brand_regex[:len(brand_regex)-1]"
   ]
  },
  {
   "cell_type": "code",
   "execution_count": 80,
   "id": "fdc08ca0-f494-4f83-9c66-3536fd8e3c3a",
   "metadata": {
    "tags": []
   },
   "outputs": [],
   "source": [
    "with open(\"flavors.txt\", \"w\", newline=\"\") as f:\n",
    "    for line in flavor_list:\n",
    "        f.write(f\"{line}\\n\")"
   ]
  },
  {
   "cell_type": "code",
   "execution_count": 81,
   "id": "824ceb6f-b33b-43dd-b2b6-2a1e22c7461b",
   "metadata": {
    "tags": []
   },
   "outputs": [],
   "source": [
    "with open(\"brands.txt\", \"w\", newline=\"\", encoding='utf-8') as f:\n",
    "    for line in brands:\n",
    "        f.write(f\"{line}\\n\")"
   ]
  },
  {
   "cell_type": "markdown",
   "id": "5afbbb6d-38fa-488c-ac30-58efae82b735",
   "metadata": {},
   "source": [
    "# Getting Descriptions"
   ]
  },
  {
   "cell_type": "code",
   "execution_count": 359,
   "id": "ccfdd481-16c5-40ef-b2c0-963966e6ed89",
   "metadata": {
    "tags": []
   },
   "outputs": [],
   "source": [
    "df2 = pd.read_csv('./disposables.csv', names=[\"name\", \"url\"])  "
   ]
  },
  {
   "cell_type": "markdown",
   "id": "e4652d4e-b284-456e-807d-d2ea2d72ce44",
   "metadata": {
    "tags": []
   },
   "source": [
    "#### Disposables Parsing"
   ]
  },
  {
   "cell_type": "code",
   "execution_count": 360,
   "id": "ac4e9dd1-3a74-4d0f-a4e3-b210c1da2c61",
   "metadata": {
    "tags": []
   },
   "outputs": [],
   "source": [
    "def helper_extract(search, description):\n",
    "    interested_regex = re.compile(search)\n",
    "    interested = interested_regex.search(description)\n",
    "    if interested is not None:\n",
    "        interested = interested.group(0).split(\":\")[1].strip()\n",
    "    else:\n",
    "        interested = \"\"\n",
    "    return interested"
   ]
  },
  {
   "cell_type": "code",
   "execution_count": 384,
   "id": "d25d28b3-1c70-4fc0-8868-6cb52880b6eb",
   "metadata": {
    "tags": []
   },
   "outputs": [],
   "source": [
    "def get_disposable_info(url):\n",
    "    results = []\n",
    "    try:\n",
    "        driver.get(url)\n",
    "    except:\n",
    "        driver.get(\"https:\" + url)\n",
    "        \n",
    "    time.sleep(2)\n",
    "        \n",
    "    title = driver.find_element(By.CLASS_NAME, \"base\")\n",
    "    description_element = driver.find_element(By.ID, \"description\")\n",
    "    results.append(title.text)\n",
    "\n",
    "    brand_regex2 = re.compile(r\"#|Fasta Burrst|7 Daze|AVCT Avictor|Advken|Air Factory|AirFuze|AirisTech|Airmez|Aleader|Aleaf|Aloha Sun|Arizer|Armageddon|Aspire|Astral Project|Astro Eight|Asvape|Augvape|Auxo|asMODus|BARZ|BLVK Unicorn|BP Mods|Bad Drip Labs|Bam Bam's Cannoli|Bantam Vape|Bar Juice|Beach Club Vapor|Beard Vape Co.|Binoid|Blank Bar|Blitz Enterprises|Bluegrass Cannabis Co.|Boulder Vape|Boundless|Bugatti|CBDfx|CCELL|CRAZYACE|Cake Vapors|Cali Alternatives|Cali Extrax|Candy King|Carats|Cartisan|Cereal Bar|Chapo Extrax|Charlie's Chalk Dust|Cheech|Chillax|Chromium Crusher|Chubby Gorilla|Cloud Nurdz|Cloudious9|Coastal Clouds|Coil Master|Craving Vapor|Crooked Creations|Cutleaf|Cuttwood|Czar|DAZZVAPE|DOGG LBS|DOVPO Technology|DOZO|DYNAVAP|DaVinci Vaporizers|Damn Vape|Daywalker|Dazzleaf|Death Row|Delta Extrax|Delta King|Delta Muchies|Diamond Supply Co.|Digiflavor|Dimo Hemp|Dotmod|Dr. Dabber|Duffle Bag Boyz|Dummy Vapes|dripMORE|ELF THC|ELUX Tech|ELYXR|EYCE|Echo|Efest|Eighty Six|Eleaf|Elysian Labs|Empire Glassworks|Equator|Exodus|FADED VAPES|FEELA|FLO|FRYD|FUME Vape|FUYL|Fifty Bar|Fire Vape|Firerose|Flayvorz|Flum Float|Flying Monkey|Focus V|Foger|Formula 420 Cleaners|Four Seasons|Freemax|Fresh Farms E-Liquid|Frozen Fields|Frutia|Fume Extracts|GRAV Labs|GRDNT|Galaxy Treats|Geek Vape|Geek'd Extracts|Ghost Hemp|Glamee|Glas Vapor|Glob Mops|Gold Bar Vapor|Goo'd Extracts|Good Girls Only|Good Vibez|Grenco Science|GÖST Vapor|HQD Technology|Half Bak'd|Hamilton Devices|Hangsen|Happi|Haze|Hellvape|Hemper|Hi Fog|Hi-Drip|HiXotic|Hidden Hills|Hideseek|High Times|Hohm Tech|Honeyroot Wellness|Honeystick|Horizon Tech|Hugo Vapor|Hulk Hogan|Humble Juice Co.|Huni Badger|INDACLOUD|ISPURE|IYKYK|Imperial Extraction|Innevape|Innokin|InstaBar|iJoy|iMini|JUS Vape|JUSTFOG|JUUL|Jeeter|Jimmy The JuiceMan|Joyetech|Juice Head|Juice King|Juice Roll Upz|Just CBD|KILO|KROS|Kado|Kangertech|Kangvape|Keep It 100|Koi CBD|Kush Burst|Kynn Labs|LG|LITTO|LUCID|LUFFBAR|LVE|Leaf Buddi|Lil Baby|Limitless Mod Co.|Logic|Lookah|Looper|Lost Mary|Lost THC|Lost Vape|Lucy|Lume|MECH VAPE|MJ Arsenal|MNKE BARS|MRKT|MTRX|Mad Hatter Juice|Mellow Fellow|Memory Lane|Merica Bar|Met4 Vapors|Metaku|Mighty Vapors|Mintopia|Mints Vape Co.|Mmelt|Modus|Monster Vape Labs|Mr. Freeze|NEXA|Naked 100 E-Liquid|Nasty Juice|Nitecore|Nitro's Cold Brew|Nomenon E-Liquids|North Vapes|Nose Knows|OBS|OEO|OLY|OMG|ON!|ONE Vape|ORGNX E-Liquids|OXBAR|OXVA|OZIBAR|Ocho Extracts|Off-Stamp|One Hit Wonder|Ooze|Oumier|PAX Labs|PLENA|Pachamama CBD|Phantoms|Piece Water|Pillow Talk|Pillowz|Pioneer4You|Ply Rock|Pod Juice|Pop Clouds|Posh Vape|Pressure LA|Prima|Propaganda E-Liquids|Puffco|Pulsar Vaporizers|Purlyf|Pushing P's|PynePod|Pyro|QIT|RAMA|RAW|RAZ|ROGUE|RUNTZ|RabBeats|Randy's|Releafy|Rick Flair Drip|Rincoe|Ruthless|SADBOY E-Liquid|SAVEURvape|SKWĒZED|SMOKtech|SOFI|STIIIZY|STNR|STORZ & BICKEL|STRIO|SVRF|SWFT|SWYPE|Salt Bae|Samsung|Santa Cruz|Sense|Shield|Shijin Vapor|Sigelei|SilverBack Juice Co|Smoant|Smoking Vapor|Snoopy Smoke|Snowwolf|Softglass|Solaris|Sony|South|Space Gods|Space Walker|Spaceman|Squid Industries|Steam Crave|Stratus|Stundenglass|Sugar Bar|Suicide Bunny|Suicide Mods|Suorin|Supercart|Sutra|Syn Liquids|TRE House|Terpboys|Tesla|The Finest E-Liquid|The Hemp Doctor|The Kind Pen|The Mamasan|Thunderhead Creations|Thursday|Tinted Brew Liquid Co.|Tiny Dancer|Tobeco|Torch|Treetop Hemp|Trinity Hemp|Trippy Sugar|True Story|Truweigh|Tsunami Premium|Twist E-Liquid|Tyson 2.0|UNO MAS|UPENDS|URB|UT BAR|Ultroner|Uwell|V Syndicate|VAPENGIN|VAPMOD|VEEPON|VELO|VGOD|VIHO|VNM|VOZOL|VPR|VUSE|Vandy Vape|Vape Breakfast Classics|Vape Dinner Lady|Vapefly|Vaperz Cloud|Vapetasia|Vaporesso|Vaptio|Velocity|Vessel|Viva La Hemp|Vladdin Vapor|VooPoo|Vyve|WAKA|Wake Mod Co.|White Rhino|Wismec|Wotofo|Wunder|XTRA|XVape|YOCAN|YOVO|Yatchvape|YiHi|Yo Bar|Yogi E-Liquids|Youde|ZIMO|ZYN|Zen Haus|Zombi|JNR\", flags=re.IGNORECASE)\n",
    "\n",
    "    brand = brand_regex2.search(title.text)\n",
    "    if brand is not None:\n",
    "        brand = brand.group(0)\n",
    "    else:\n",
    "        brand = \"FIND BRAND\"\n",
    "    results.append(brand)\n",
    "\n",
    "    product = title.text\n",
    "    results.append(product)\n",
    "\n",
    "    skunumber = \"\"\n",
    "    results.append(skunumber)\n",
    "\n",
    "    price_element = driver.find_element(By.CLASS_NAME, \"price\")\n",
    "    price = price_element.text\n",
    "    results.append(price)\n",
    "\n",
    "    description = description_element.text\n",
    "    results.append(description)\n",
    "\n",
    "    eliquid_contents = helper_extract(r\"PREFILLED CAPACITY(.*)(\\r\\n|\\r|\\n)\", description)\n",
    "    results.append(eliquid_contents)\n",
    "    \n",
    "    nicotine_level = helper_extract(r\"NICOTINE STRENGTH(.*)(\\r\\n|\\r|\\n)\", description)\n",
    "    results.append(nicotine_level)\n",
    "    \n",
    "    puffs_per_device = helper_extract(r\"MAX PUFFS(.*)(\\r\\n|\\r|\\n)\", description)\n",
    "    puffs_per_device_normal = puffs_per_device.split(\"|\")\n",
    "    if len(puffs_per_device_normal) > 1:\n",
    "        puffs_per_device_normal = puffs_per_device_normal[1].strip()\n",
    "    else: \n",
    "        puffs_per_device_normal = puffs_per_device_normal[0].strip()\n",
    "    results.append(puffs_per_device)\n",
    "    results.append(puffs_per_device_normal)\n",
    "    \n",
    "    battery = helper_extract(r\"BATTERY CAPACITY(.*)(\\r\\n|\\r|\\n)\", description)\n",
    "    results.append(battery)\n",
    "    \n",
    "    try:\n",
    "        flavor_options = driver.find_element(By.XPATH, \"//*[contains(text(), 'AVAILABLE OPTIONS')]/parent::p\")\n",
    "        flavor_options = flavor_options.text.split(\"\\n\")\n",
    "    \n",
    "        if len(flavor_options) == 1:\n",
    "            flavor_options = flavor_options[0].split(\",\")\n",
    "        else:\n",
    "            flavor_options.pop(0)\n",
    "\n",
    "        flavor_options = [flavor.replace(\"• \", \"\") for flavor in flavor_options]\n",
    "        flavor_options = \", \".join(flavor_options)\n",
    "        results.append(flavor_options)\n",
    "    except NoSuchElementException:\n",
    "        try:\n",
    "            flavor_options = driver.find_element(By.XPATH, \"//*[contains(text(), 'Available Options')]/parent::p\")\n",
    "            flavor_options = flavor_options.text.split(\"\\n\")\n",
    "\n",
    "            if len(flavor_options) == 1:\n",
    "                flavor_options = flavor_options[0].split(\",\")\n",
    "            else:\n",
    "                flavor_options.pop(0)\n",
    "\n",
    "            flavor_options = [flavor.replace(\"• \", \"\") for flavor in flavor_options]\n",
    "            flavor_options = \", \".join(flavor_options)\n",
    "            results.append(flavor_options)\n",
    "        except:\n",
    "            flavor_options = \"\"\n",
    "            results.append(flavor_options)\n",
    "\n",
    "    coil = helper_extract(r\"HEATING ELEMENT(.*)(\\r\\n|\\r|\\n)\", description)\n",
    "    results.append(coil)\n",
    "\n",
    "    led_regex = re.compile(r\" screen| SCREEN\")\n",
    "    led = \"yes\" if led_regex.search(description) is not None else \"no\"\n",
    "    results.append(led)\n",
    "\n",
    "    dual_tank_disposable_vape = \"\"\n",
    "    results.append(dual_tank_disposable_vape)\n",
    "\n",
    "    smart_led = \"no\"\n",
    "    if led == \"yes\":\n",
    "        smart_led_regex = re.compile(r\" touch screen| TOUCH SCREEN\")\n",
    "        smart_led = \"yes\" if smart_led_regex.search(description) is not None else \"no\"\n",
    "    results.append(smart_led)\n",
    "\n",
    "    turbo_mode = \"\"\n",
    "    results.append(turbo_mode)\n",
    "    \n",
    "    disposable_vape_battery = battery\n",
    "    results.append(disposable_vape_battery)\n",
    "\n",
    "    charging_dock = helper_extract(r\"CHARGING(.*)(\\r\\n|\\r|\\n)\", description)\n",
    "    results.append(charging_dock)\n",
    "    \n",
    "    full_led_screen = led\n",
    "    results.append(full_led_screen)\n",
    "\n",
    "    power_mode_setting = \"\"\n",
    "    results.append(power_mode_setting)\n",
    "\n",
    "    airflow = helper_extract(r\"AIRFLOW(.*)(\\r\\n|\\r|\\n)\", description)\n",
    "    results.append(airflow)\n",
    "\n",
    "    operation = helper_extract(r\"OPERATION(.*)(\\r\\n|\\r|\\n)\", description)\n",
    "    results.append(operation)\n",
    "    \n",
    "    results.append(url)\n",
    "    \n",
    "    return results"
   ]
  },
  {
   "cell_type": "markdown",
   "id": "a9476873-cc27-4bf2-8838-856c6ce1b9df",
   "metadata": {},
   "source": [
    "#### The actual thing"
   ]
  },
  {
   "cell_type": "code",
   "execution_count": 362,
   "id": "82d4a41b-ddcd-449e-9d1f-3940e18fc64f",
   "metadata": {
    "tags": []
   },
   "outputs": [],
   "source": [
    "columns = [\"title\", \"brand\", \"product\", \"skunumber\", \"price\", \"description\", \"eliquid_contents\", \"nicotine_level\", \"puffs_per_device\", \"puffs_per_device_normal\", \"battery\", \"flavor_options\", \"coil\", \"led\", \"dual_tank\", \"smart_led\", \"turbo\", \"disposable_vape_battery\", \"charging_dock\", \"full_led_screen\", \"power_mode_setting\", \"airflow\", \"operation\", \"url\"]"
   ]
  },
  {
   "cell_type": "markdown",
   "id": "74fbabb9-170a-453b-9cd5-752872f33ddb",
   "metadata": {
    "tags": []
   },
   "source": [
    "extracted_data = pd.DataFrame(columns=columns)"
   ]
  },
  {
   "cell_type": "code",
   "execution_count": 385,
   "id": "97f71fe9-e2cb-41e0-9fd6-116b5fd9f830",
   "metadata": {
    "tags": []
   },
   "outputs": [
    {
     "data": {
      "text/plain": [
       "102"
      ]
     },
     "execution_count": 385,
     "metadata": {},
     "output_type": "execute_result"
    }
   ],
   "source": [
    "len(extracted_data)"
   ]
  },
  {
   "cell_type": "code",
   "execution_count": 380,
   "id": "51c5304a-72d2-46ed-8783-339ff00d4dc0",
   "metadata": {
    "tags": []
   },
   "outputs": [
    {
     "data": {
      "text/html": [
       "<div>\n",
       "<style scoped>\n",
       "    .dataframe tbody tr th:only-of-type {\n",
       "        vertical-align: middle;\n",
       "    }\n",
       "\n",
       "    .dataframe tbody tr th {\n",
       "        vertical-align: top;\n",
       "    }\n",
       "\n",
       "    .dataframe thead th {\n",
       "        text-align: right;\n",
       "    }\n",
       "</style>\n",
       "<table border=\"1\" class=\"dataframe\">\n",
       "  <thead>\n",
       "    <tr style=\"text-align: right;\">\n",
       "      <th></th>\n",
       "      <th>name</th>\n",
       "      <th>url</th>\n",
       "    </tr>\n",
       "  </thead>\n",
       "  <tbody>\n",
       "    <tr>\n",
       "      <th>102</th>\n",
       "      <td>Mystery Disposable Vape Pack</td>\n",
       "      <td>https://www.elementvape.com/mystery-disposable...</td>\n",
       "    </tr>\n",
       "    <tr>\n",
       "      <th>103</th>\n",
       "      <td>PLENA 18K Disposable</td>\n",
       "      <td>https://www.elementvape.com/plena-18k-disposable</td>\n",
       "    </tr>\n",
       "    <tr>\n",
       "      <th>104</th>\n",
       "      <td>iJoy TaijiZen Judo 24000 Disposable</td>\n",
       "      <td>https://www.elementvape.com/ijoy-taijizen-judo</td>\n",
       "    </tr>\n",
       "    <tr>\n",
       "      <th>105</th>\n",
       "      <td>Airis Alpha Touch 20000 Disposable</td>\n",
       "      <td>https://www.elementvape.com/airis-alpha-touch</td>\n",
       "    </tr>\n",
       "    <tr>\n",
       "      <th>106</th>\n",
       "      <td>VOZOL Gear Power 20000 Disposable</td>\n",
       "      <td>https://www.elementvape.com/vozol-gear-power</td>\n",
       "    </tr>\n",
       "    <tr>\n",
       "      <th>...</th>\n",
       "      <td>...</td>\n",
       "      <td>...</td>\n",
       "    </tr>\n",
       "    <tr>\n",
       "      <th>417</th>\n",
       "      <td>Blu Gold Leaf Disposable Pods</td>\n",
       "      <td>https://www.elementvape.com/blu-gold-leaf-disp...</td>\n",
       "    </tr>\n",
       "    <tr>\n",
       "      <th>418</th>\n",
       "      <td>ELF CBD5000 Disposable</td>\n",
       "      <td>https://www.elementvape.com/elf-cbd5000-dispos...</td>\n",
       "    </tr>\n",
       "    <tr>\n",
       "      <th>419</th>\n",
       "      <td>[10-Pack] SMOK Novo Bar AL6000 Disposable</td>\n",
       "      <td>https://www.elementvape.com/smok-novo-bar-10pk</td>\n",
       "    </tr>\n",
       "    <tr>\n",
       "      <th>420</th>\n",
       "      <td>BLANK BAR 15K Disposable Pod System</td>\n",
       "      <td>https://www.elementvape.com/blank-bar-15k-disp...</td>\n",
       "    </tr>\n",
       "    <tr>\n",
       "      <th>421</th>\n",
       "      <td>VIHO Turbo 10000 Tobacco Disposable</td>\n",
       "      <td>https://www.elementvape.com/viho-turbo-tobacco...</td>\n",
       "    </tr>\n",
       "  </tbody>\n",
       "</table>\n",
       "<p>320 rows × 2 columns</p>\n",
       "</div>"
      ],
      "text/plain": [
       "                                          name  \\\n",
       "102               Mystery Disposable Vape Pack   \n",
       "103                       PLENA 18K Disposable   \n",
       "104        iJoy TaijiZen Judo 24000 Disposable   \n",
       "105         Airis Alpha Touch 20000 Disposable   \n",
       "106          VOZOL Gear Power 20000 Disposable   \n",
       "..                                         ...   \n",
       "417              Blu Gold Leaf Disposable Pods   \n",
       "418                     ELF CBD5000 Disposable   \n",
       "419  [10-Pack] SMOK Novo Bar AL6000 Disposable   \n",
       "420        BLANK BAR 15K Disposable Pod System   \n",
       "421        VIHO Turbo 10000 Tobacco Disposable   \n",
       "\n",
       "                                                   url  \n",
       "102  https://www.elementvape.com/mystery-disposable...  \n",
       "103   https://www.elementvape.com/plena-18k-disposable  \n",
       "104     https://www.elementvape.com/ijoy-taijizen-judo  \n",
       "105      https://www.elementvape.com/airis-alpha-touch  \n",
       "106       https://www.elementvape.com/vozol-gear-power  \n",
       "..                                                 ...  \n",
       "417  https://www.elementvape.com/blu-gold-leaf-disp...  \n",
       "418  https://www.elementvape.com/elf-cbd5000-dispos...  \n",
       "419     https://www.elementvape.com/smok-novo-bar-10pk  \n",
       "420  https://www.elementvape.com/blank-bar-15k-disp...  \n",
       "421  https://www.elementvape.com/viho-turbo-tobacco...  \n",
       "\n",
       "[320 rows x 2 columns]"
      ]
     },
     "execution_count": 380,
     "metadata": {},
     "output_type": "execute_result"
    }
   ],
   "source": [
    "df2"
   ]
  },
  {
   "cell_type": "code",
   "execution_count": 391,
   "id": "4d245fd5-fc24-4b67-85c0-6eb79e50feb2",
   "metadata": {
    "tags": []
   },
   "outputs": [
    {
     "name": "stderr",
     "output_type": "stream",
     "text": [
      " 50%|████████████████████████████████████████▌                                        | 80/160 [12:50<12:50,  9.63s/it]\n"
     ]
    },
    {
     "ename": "IndexError",
     "evalue": "single positional indexer is out-of-bounds",
     "output_type": "error",
     "traceback": [
      "\u001b[1;31m---------------------------------------------------------------------------\u001b[0m",
      "\u001b[1;31mIndexError\u001b[0m                                Traceback (most recent call last)",
      "Cell \u001b[1;32mIn[391], line 4\u001b[0m\n\u001b[0;32m      1\u001b[0m \u001b[38;5;28;01mfrom\u001b[39;00m \u001b[38;5;21;01mtqdm\u001b[39;00m \u001b[38;5;28;01mimport\u001b[39;00m tqdm\n\u001b[0;32m      3\u001b[0m \u001b[38;5;28;01mfor\u001b[39;00m i \u001b[38;5;129;01min\u001b[39;00m tqdm(\u001b[38;5;28mrange\u001b[39m(\u001b[38;5;28mlen\u001b[39m(df2))):\n\u001b[1;32m----> 4\u001b[0m     current \u001b[38;5;241m=\u001b[39m df2\u001b[38;5;241m.\u001b[39miloc[i]\n\u001b[0;32m      5\u001b[0m     url \u001b[38;5;241m=\u001b[39m current[\u001b[38;5;124m\"\u001b[39m\u001b[38;5;124murl\u001b[39m\u001b[38;5;124m\"\u001b[39m]\n\u001b[0;32m      6\u001b[0m     temp \u001b[38;5;241m=\u001b[39m get_disposable_info(url)\n",
      "File \u001b[1;32m~\\AppData\\Local\\anaconda3\\Lib\\site-packages\\pandas\\core\\indexing.py:1073\u001b[0m, in \u001b[0;36m_LocationIndexer.__getitem__\u001b[1;34m(self, key)\u001b[0m\n\u001b[0;32m   1070\u001b[0m axis \u001b[38;5;241m=\u001b[39m \u001b[38;5;28mself\u001b[39m\u001b[38;5;241m.\u001b[39maxis \u001b[38;5;129;01mor\u001b[39;00m \u001b[38;5;241m0\u001b[39m\n\u001b[0;32m   1072\u001b[0m maybe_callable \u001b[38;5;241m=\u001b[39m com\u001b[38;5;241m.\u001b[39mapply_if_callable(key, \u001b[38;5;28mself\u001b[39m\u001b[38;5;241m.\u001b[39mobj)\n\u001b[1;32m-> 1073\u001b[0m \u001b[38;5;28;01mreturn\u001b[39;00m \u001b[38;5;28mself\u001b[39m\u001b[38;5;241m.\u001b[39m_getitem_axis(maybe_callable, axis\u001b[38;5;241m=\u001b[39maxis)\n",
      "File \u001b[1;32m~\\AppData\\Local\\anaconda3\\Lib\\site-packages\\pandas\\core\\indexing.py:1625\u001b[0m, in \u001b[0;36m_iLocIndexer._getitem_axis\u001b[1;34m(self, key, axis)\u001b[0m\n\u001b[0;32m   1622\u001b[0m     \u001b[38;5;28;01mraise\u001b[39;00m \u001b[38;5;167;01mTypeError\u001b[39;00m(\u001b[38;5;124m\"\u001b[39m\u001b[38;5;124mCannot index by location index with a non-integer key\u001b[39m\u001b[38;5;124m\"\u001b[39m)\n\u001b[0;32m   1624\u001b[0m \u001b[38;5;66;03m# validate the location\u001b[39;00m\n\u001b[1;32m-> 1625\u001b[0m \u001b[38;5;28mself\u001b[39m\u001b[38;5;241m.\u001b[39m_validate_integer(key, axis)\n\u001b[0;32m   1627\u001b[0m \u001b[38;5;28;01mreturn\u001b[39;00m \u001b[38;5;28mself\u001b[39m\u001b[38;5;241m.\u001b[39mobj\u001b[38;5;241m.\u001b[39m_ixs(key, axis\u001b[38;5;241m=\u001b[39maxis)\n",
      "File \u001b[1;32m~\\AppData\\Local\\anaconda3\\Lib\\site-packages\\pandas\\core\\indexing.py:1557\u001b[0m, in \u001b[0;36m_iLocIndexer._validate_integer\u001b[1;34m(self, key, axis)\u001b[0m\n\u001b[0;32m   1555\u001b[0m len_axis \u001b[38;5;241m=\u001b[39m \u001b[38;5;28mlen\u001b[39m(\u001b[38;5;28mself\u001b[39m\u001b[38;5;241m.\u001b[39mobj\u001b[38;5;241m.\u001b[39m_get_axis(axis))\n\u001b[0;32m   1556\u001b[0m \u001b[38;5;28;01mif\u001b[39;00m key \u001b[38;5;241m>\u001b[39m\u001b[38;5;241m=\u001b[39m len_axis \u001b[38;5;129;01mor\u001b[39;00m key \u001b[38;5;241m<\u001b[39m \u001b[38;5;241m-\u001b[39mlen_axis:\n\u001b[1;32m-> 1557\u001b[0m     \u001b[38;5;28;01mraise\u001b[39;00m \u001b[38;5;167;01mIndexError\u001b[39;00m(\u001b[38;5;124m\"\u001b[39m\u001b[38;5;124msingle positional indexer is out-of-bounds\u001b[39m\u001b[38;5;124m\"\u001b[39m)\n",
      "\u001b[1;31mIndexError\u001b[0m: single positional indexer is out-of-bounds"
     ]
    }
   ],
   "source": [
    "from tqdm import tqdm\n",
    "   \n",
    "for i in tqdm(range(len(df2))):\n",
    "    current = df2.iloc[i]\n",
    "    url = current[\"url\"]\n",
    "    temp = get_disposable_info(url)\n",
    "\n",
    "    #disposables_list.append(temp)\n",
    "    extracted_data.loc[len(extracted_data)] = temp\n",
    "    df2 = df2.iloc[1: , :]"
   ]
  },
  {
   "cell_type": "code",
   "execution_count": 392,
   "id": "e138b14b-bc75-4be4-8315-fd205ee78f34",
   "metadata": {
    "tags": []
   },
   "outputs": [],
   "source": [
    "extracted_data.to_csv('disposables_extracted.csv', index=False) "
   ]
  },
  {
   "cell_type": "code",
   "execution_count": null,
   "id": "4dd0a9ab-9a74-45db-89c8-64294883584b",
   "metadata": {},
   "outputs": [],
   "source": []
  }
 ],
 "metadata": {
  "kernelspec": {
   "display_name": "Python 3 (ipykernel)",
   "language": "python",
   "name": "python3"
  },
  "language_info": {
   "codemirror_mode": {
    "name": "ipython",
    "version": 3
   },
   "file_extension": ".py",
   "mimetype": "text/x-python",
   "name": "python",
   "nbconvert_exporter": "python",
   "pygments_lexer": "ipython3",
   "version": "3.11.5"
  }
 },
 "nbformat": 4,
 "nbformat_minor": 5
}
